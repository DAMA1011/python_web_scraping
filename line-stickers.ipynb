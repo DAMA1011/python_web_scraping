{
 "cells": [
  {
   "cell_type": "code",
   "execution_count": 13,
   "id": "6e9c3283",
   "metadata": {
    "scrolled": true
   },
   "outputs": [
    {
     "name": "stdout",
     "output_type": "stream",
     "text": [
      "貼圖 ID 375885334 已完成\n",
      "貼圖 ID 375885335 已完成\n",
      "貼圖 ID 375885336 已完成\n",
      "貼圖 ID 375885337 已完成\n",
      "貼圖 ID 375885338 已完成\n",
      "貼圖 ID 375885339 已完成\n",
      "貼圖 ID 375885340 已完成\n",
      "貼圖 ID 375885341 已完成\n",
      "貼圖 ID 375885342 已完成\n",
      "貼圖 ID 375885343 已完成\n",
      "貼圖 ID 375885344 已完成\n",
      "貼圖 ID 375885345 已完成\n",
      "貼圖 ID 375885346 已完成\n",
      "貼圖 ID 375885347 已完成\n",
      "貼圖 ID 375885348 已完成\n",
      "貼圖 ID 375885349 已完成\n",
      "貼圖 ID 375885350 已完成\n",
      "貼圖 ID 375885351 已完成\n",
      "貼圖 ID 375885352 已完成\n",
      "貼圖 ID 375885353 已完成\n",
      "貼圖 ID 375885354 已完成\n",
      "貼圖 ID 375885355 已完成\n",
      "貼圖 ID 375885356 已完成\n",
      "貼圖 ID 375885357 已完成\n"
     ]
    }
   ],
   "source": [
    "import requests as req\n",
    "import os, json\n",
    "from bs4 import BeautifulSoup as bs\n",
    "from pprint import pprint\n",
    "\n",
    "# 隨機取得 User-Agent\n",
    "from fake_useragent import UserAgent\n",
    "ua = UserAgent(cache=True)  # cache=True 表示從已經儲存的列表中提取\n",
    "\n",
    "# 建立儲存圖片的資料夾，不存在就新增\n",
    "folderPath = \"line_stickers\"\n",
    "if not os.path.exists(folderPath):\n",
    "    os.makedirs(folderPath)\n",
    "    \n",
    "#放貼圖資訊用\n",
    "listLineStickers = []\n",
    "\n",
    "# 自訂標頭\n",
    "my_headers = {\n",
    "    \"user-agent\": ua.random\n",
    "}\n",
    "\n",
    "# 官方 LINE 貼圖的網址\n",
    "url = 'https://store.line.me/stickershop/product/19445/zh-Hant'\n",
    "\n",
    "# 將自訂標頭加入 GET 請求中\n",
    "res = req.get(url, headers = my_headers)\n",
    "\n",
    "# 建立 soup 物件\n",
    "soup = bs(res.text, \"lxml\")\n",
    "\n",
    "'''\n",
    "備註:\n",
    "1. soup.select()：回傳的結果是元素集合（list 型態，BeautifulSoup ResultSet）\n",
    "2. soup.select_one()：回傳的結果是單一元素（BeautifulSoup Result）\n",
    "'''\n",
    "# 取得放置貼圖的 li 元素 (list 型態)\n",
    "li_elements = soup.select(\"ul.mdCMN09Ul.FnStickerList > li.mdCMN09Li.FnStickerPreviewItem\")\n",
    "\n",
    "# 逐一取得 li 元素中的 data-preview 資訊\n",
    "for li in li_elements:\n",
    "    # 取得 data-preview 屬性的值(字串)\n",
    "    strJson = li[\"data-preview\"]\n",
    "    \n",
    "    #把屬性的值(字串)轉成物件 \n",
    "    obj = json.loads(strJson)\n",
    "    \n",
    "    # 將重要資訊放置在 list 當中，幫助我們稍候進行資料下載與儲存\n",
    "    listLineStickers.append(obj)\n",
    "\n",
    "# 下載圖片\n",
    "for obj in listLineStickers:\n",
    "    os.system(f\"curl {obj['staticUrl']} -o {folderPath}/{obj['id']}.png\")\n",
    "    print(f\"貼圖 ID {obj['id']} 已完成\")"
   ]
  }
 ],
 "metadata": {
  "kernelspec": {
   "display_name": "Python 3 (ipykernel)",
   "language": "python",
   "name": "python3"
  },
  "language_info": {
   "codemirror_mode": {
    "name": "ipython",
    "version": 3
   },
   "file_extension": ".py",
   "mimetype": "text/x-python",
   "name": "python",
   "nbconvert_exporter": "python",
   "pygments_lexer": "ipython3",
   "version": "3.10.7"
  }
 },
 "nbformat": 4,
 "nbformat_minor": 5
}
