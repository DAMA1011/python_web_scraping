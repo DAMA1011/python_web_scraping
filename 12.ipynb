{
 "cells": [
  {
   "cell_type": "code",
   "execution_count": 4,
   "id": "34342092",
   "metadata": {},
   "outputs": [
    {
     "name": "stdout",
     "output_type": "stream",
     "text": [
      "[心得] 嫖妓初期者的經驗\n",
      "https://www.ptt.cc/bbs/sex/M.1665759682.A.ABD.html\n",
      "[心得] 關於G點，她真的說錯了（Part1）\n",
      "https://www.ptt.cc/bbs/sex/M.1665780813.A.FF2.html\n",
      "[新聞] 恐怖！台中惡徒入侵大學 刀抵女大生脖拖進廁所想硬上\n",
      "https://www.ptt.cc/bbs/sex/M.1665813503.A.54C.html\n",
      "[創作] 不夜城 第九十八夜 雪姨\n",
      "https://www.ptt.cc/bbs/sex/M.1665814530.A.705.html\n",
      "慶祝桃緣彩虹居所成為自我篩檢試劑兌換點\n",
      "https://www.ptt.cc/bbs/sex/M.1665837514.A.287.html\n",
      "[新聞] 16歲少女約男網友床戰 父下班返家撞見氣炸提告\n",
      "https://www.ptt.cc/bbs/sex/M.1665839018.A.CC5.html\n",
      "Re: [新聞] 20分鐘700元！台中私娼寮拆除　里長不忍：20多個家庭怎\n",
      "https://www.ptt.cc/bbs/sex/M.1665840952.A.73A.html\n",
      "[新聞] 逼院生看A片打手槍！還威脅「一定砍死你\n",
      "https://www.ptt.cc/bbs/sex/M.1665843316.A.474.html\n",
      "[新聞] 外遇嘿咻擦破皮 法院：可見當事人真情流露\n",
      "https://www.ptt.cc/bbs/sex/M.1665846528.A.5D5.html\n",
      "[閒聊] 男生下面外型跟爽度的關係\n",
      "https://www.ptt.cc/bbs/sex/M.1665854064.A.00C.html\n",
      "[討論] 女生做愛的時候是不需要躺枕頭的嗎？\n",
      "https://www.ptt.cc/bbs/sex/M.1665855935.A.DE6.html\n",
      "Re: [心得] 關於G點，她真的說錯了（Part1）\n",
      "https://www.ptt.cc/bbs/sex/M.1665856674.A.6D4.html\n",
      "[新聞] 志田愛佳23歲改行陪酒「誘女團成員下海」！開價時薪6500元\n",
      "https://www.ptt.cc/bbs/sex/M.1665873834.A.20E.html\n",
      "[新聞] 女業務怕領不到獎金 6度被迫和建商老闆在\n",
      "https://www.ptt.cc/bbs/sex/M.1665876133.A.582.html\n",
      "[討論] 也太大膽了吧\n",
      "https://www.ptt.cc/bbs/sex/M.1665877941.A.3AC.html\n",
      "[公告] 西斯板規 Ver 6.2.9\n",
      "https://www.ptt.cc/bbs/sex/M.1444975473.A.7C9.html\n",
      "Fw: [公告] 請使用者多加注意我國保護兒少的法令\n",
      "https://www.ptt.cc/bbs/sex/M.1564409000.A.CD1.html\n",
      "[公告] 2022 十月 西斯置底閒聊區\n",
      "https://www.ptt.cc/bbs/sex/M.1664589949.A.11F.html\n"
     ]
    }
   ],
   "source": [
    "import requests as req\n",
    "from bs4 import BeautifulSoup as bs\n",
    "\n",
    " # PTT sex (西斯) 板\n",
    "url = \"https://www.ptt.cc/bbs/sex/index.html\"\n",
    "\n",
    "# 首頁網址\n",
    "prefix = 'https://www.ptt.cc'\n",
    "\n",
    "# 設定 cookie\n",
    "my_cookies = {\n",
    "    \"over18\": \"1\"\n",
    "}\n",
    "\n",
    "# 發出請求\n",
    "res = req.get(url, cookies = my_cookies)\n",
    "\n",
    "# 建立 soup 物件\n",
    "soup = bs(res.text, \"lxml\")\n",
    "\n",
    "# 顯示連結列表\n",
    "for a in soup.select(\"div.r-ent > div.title > a\"):\n",
    "    print(a.get_text())\n",
    "    print(prefix + a[\"href\"])"
   ]
  }
 ],
 "metadata": {
  "kernelspec": {
   "display_name": "Python 3 (ipykernel)",
   "language": "python",
   "name": "python3"
  },
  "language_info": {
   "codemirror_mode": {
    "name": "ipython",
    "version": 3
   },
   "file_extension": ".py",
   "mimetype": "text/x-python",
   "name": "python",
   "nbconvert_exporter": "python",
   "pygments_lexer": "ipython3",
   "version": "3.9.12"
  }
 },
 "nbformat": 4,
 "nbformat_minor": 5
}
