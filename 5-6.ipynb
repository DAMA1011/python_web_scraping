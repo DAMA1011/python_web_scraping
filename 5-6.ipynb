{
 "cells": [
  {
   "cell_type": "markdown",
   "id": "6c574387",
   "metadata": {},
   "source": [
    "# 正規表達式"
   ]
  },
  {
   "cell_type": "code",
   "execution_count": 2,
   "id": "abe81d0c",
   "metadata": {},
   "outputs": [],
   "source": [
    "import re"
   ]
  },
  {
   "cell_type": "code",
   "execution_count": 6,
   "id": "89ed4558",
   "metadata": {},
   "outputs": [
    {
     "name": "stdout",
     "output_type": "stream",
     "text": [
      "<re.Match object; span=(0, 10), match='A123456789'>\n",
      "A123456789\n",
      "1\n",
      "A123456789\n",
      "1\n"
     ]
    }
   ],
   "source": [
    "# search\n",
    "'''\n",
    "說明\n",
    "re.search 會將整個字串進行搜尋，\n",
    "但只會比對到第一組，\n",
    "match[0]是regex所代表的整個完整比對的字串，\n",
    "match[1]是第一組()中的內容，\n",
    "match[2]是第二組()中的內容...\n",
    "'''\n",
    "regex01 = r\"[a-zA-Z]([12])[0-9]{8}\"\n",
    "string01 = \"A123456789, S299888777\"\n",
    "match01 = re.search(regex01, string01)\n",
    "print(match01)\n",
    "print(match01[0])\n",
    "print(match01[1])\n",
    "\n",
    "'''\n",
    "補充:\n",
    "match.group() 或 match.group(0) 是regex所代表的整個完整比對的字串，\n",
    "match.group(1)是第一組()中的內容，\n",
    "match.group(2)是第二組()中的內容...\n",
    "'''\n",
    "print(match01.group(0))\n",
    "print(match01.group(1))"
   ]
  },
  {
   "cell_type": "code",
   "execution_count": 9,
   "id": "6d185173",
   "metadata": {},
   "outputs": [
    {
     "name": "stdout",
     "output_type": "stream",
     "text": [
      "['0911111111', '0922222222', '0933333333']\n",
      "0911111111\n",
      "0933333333\n"
     ]
    }
   ],
   "source": [
    "# findall\n",
    "'''\n",
    "說明\n",
    "re.findall 會將所有配對到的字串\n",
    "回傳成一個 list\n",
    "'''\n",
    "regex02 = r\"[0-9]+\"\n",
    "string02 = \"0911111111, 0922222222, 0933333333\"\n",
    "match02 = re.findall(regex02, string02)\n",
    "print(match02)\n",
    "print(match02[0])\n",
    "print(match02[2])"
   ]
  },
  {
   "cell_type": "code",
   "execution_count": 11,
   "id": "93901d63",
   "metadata": {},
   "outputs": [
    {
     "name": "stdout",
     "output_type": "stream",
     "text": [
      "0911111111\n",
      "0922222222\n",
      "0933333333\n"
     ]
    }
   ],
   "source": [
    "# finditer\n",
    "'''\n",
    "說明\n",
    "re.finditer 會將所有配對到的字串\n",
    "以迭代的方式呈現，若沒有配對到，則回傳 None\n",
    "'''\n",
    "regex03 = r\"[0-9]+\"\n",
    "string03 = \"0911111111, 0922222222, 0933333333\"\n",
    "match03 = re.finditer(regex03, string03)\n",
    "if match03 != None:\n",
    "    for match in match03:\n",
    "        print(match[0])"
   ]
  },
  {
   "cell_type": "code",
   "execution_count": 3,
   "id": "3e326e57",
   "metadata": {},
   "outputs": [
    {
     "name": "stdout",
     "output_type": "stream",
     "text": [
      "<re.Match object; span=(0, 10), match='2022/06/20'>\n",
      "2022/06/20\n",
      "06\n",
      "20\n"
     ]
    }
   ],
   "source": [
    "# match\n",
    "'''\n",
    "說明\n",
    "re.match 與 re.search 的差別，\n",
    "在於 match 會從字串的「開頭」開始比對，\n",
    "比對不到，便回傳 None\n",
    "'''\n",
    "regex04 = r\"2[0-9]{3}\\/([0]?[1-9]|[1]?[0-2])\\/([12][0-9]\\b|[3][01]\\b|[0]?[1-9]\\b)\"\n",
    "string04 = \"2022/06/20\"\n",
    "match04 = re.match(regex04, string04)\n",
    "print(match04)\n",
    "print(match04[0])\n",
    "print(match04[1])\n",
    "print(match04[2])"
   ]
  },
  {
   "cell_type": "code",
   "execution_count": 21,
   "id": "567bcba1",
   "metadata": {},
   "outputs": [
    {
     "name": "stdout",
     "output_type": "stream",
     "text": [
      "['One', 'Two', 'Three', 'Four', '']\n"
     ]
    }
   ],
   "source": [
    "# split\n",
    "'''\n",
    "說明\n",
    "re.split 類似 string.split('separator')，\n",
    "只是用正規表達式來作為 separator，\n",
    "並回傳 list\n",
    "'''\n",
    "regex05 = r\"\\d\"\n",
    "string05 = \"One1Two2Three3Four4\"\n",
    "match05 = re.split(regex05, string05)\n",
    "print(match05)"
   ]
  },
  {
   "cell_type": "code",
   "execution_count": 22,
   "id": "25ec7d99",
   "metadata": {},
   "outputs": [
    {
     "name": "stdout",
     "output_type": "stream",
     "text": [
      "5201314\n"
     ]
    }
   ],
   "source": [
    "# sub\n",
    "'''\n",
    "說明\n",
    "re.sub(regex, replace_string, test_string)\n",
    "將 regex 所代表的文字，改成 replace_string，文字來源是 test_string\n",
    "'''\n",
    "regex06 = r\"\\D\"\n",
    "string06 = \"5-20 #1314\"\n",
    "match06 = re.sub(regex06, \"\", string06)\n",
    "print(match06)"
   ]
  },
  {
   "cell_type": "markdown",
   "id": "41bcbe6f",
   "metadata": {},
   "source": [
    "# 環視"
   ]
  },
  {
   "cell_type": "code",
   "execution_count": 25,
   "id": "b58ee11e",
   "metadata": {},
   "outputs": [
    {
     "name": "stdout",
     "output_type": "stream",
     "text": [
      "一天一蘋果醫生遠離我。An apple a day keeps the doctor away.\n"
     ]
    }
   ],
   "source": [
    "# 環視 (例如去除中文字旁邊的空白)\n",
    "regex07 = r\"\\s(?![A-Za-z])\"\n",
    "string07 = \"一 天 一 蘋 果 醫 生 遠 離 我。An apple a day keeps the doctor away.\"\n",
    "match07 = re.sub(regex07, \"\", string07)\n",
    "print(match07)"
   ]
  },
  {
   "cell_type": "code",
   "execution_count": 30,
   "id": "358fb0af",
   "metadata": {},
   "outputs": [
    {
     "name": "stdout",
     "output_type": "stream",
     "text": [
      "1,234,567,890\n"
     ]
    }
   ],
   "source": [
    "# 環視 (加入千分位)\n",
    "regex08 = r\"(?<=\\d)(?=(\\d{3})+\\b)\"\n",
    "string08 = '1234567890'\n",
    "match08 = re.sub(regex08, \",\", string08)\n",
    "print(match08)"
   ]
  },
  {
   "cell_type": "markdown",
   "id": "cdb3ae91",
   "metadata": {},
   "source": [
    "# 具名群組"
   ]
  },
  {
   "cell_type": "code",
   "execution_count": 36,
   "id": "b60027a2",
   "metadata": {},
   "outputs": [
    {
     "name": "stdout",
     "output_type": "stream",
     "text": [
      "A100000001\n",
      "A100000001\n",
      "A100000001\n",
      "1\n",
      "1\n",
      "1\n"
     ]
    }
   ],
   "source": [
    "'''\n",
    "補充:\n",
    "除了 .group(n) 以外，\n",
    "還可以用 key 來代替 n。\n",
    "'''\n",
    "regex09 = r\"[A-Z](?P<SEX>[12])\\d{8}\"\n",
    "string09 = \"A100000001\"\n",
    "match09 = re.match(regex09, string09)\n",
    "\n",
    "# 完整配對的文字\n",
    "print(match09[0])\n",
    "print(match09.group(0))\n",
    "print(match09.group())\n",
    "\n",
    "# 具名(類似key)所代表的值，也可以用索引代號來取得\n",
    "print(match09[1])\n",
    "print(match09[\"SEX\"])\n",
    "print(match09.group(\"SEX\"))"
   ]
  }
 ],
 "metadata": {
  "kernelspec": {
   "display_name": "Python 3 (ipykernel)",
   "language": "python",
   "name": "python3"
  },
  "language_info": {
   "codemirror_mode": {
    "name": "ipython",
    "version": 3
   },
   "file_extension": ".py",
   "mimetype": "text/x-python",
   "name": "python",
   "nbconvert_exporter": "python",
   "pygments_lexer": "ipython3",
   "version": "3.10.7"
  }
 },
 "nbformat": 4,
 "nbformat_minor": 5
}
