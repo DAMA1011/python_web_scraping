{
 "cells": [
  {
   "cell_type": "code",
   "execution_count": 1,
   "id": "c6a71169",
   "metadata": {},
   "outputs": [],
   "source": [
    "'''\n",
    "匯入工具\n",
    "'''\n",
    "import pyautogui\n",
    "from time import sleep, time\n",
    "import keyboard, mouse\n",
    "from IPython.display import clear_output"
   ]
  },
  {
   "cell_type": "code",
   "execution_count": 2,
   "id": "f283812c",
   "metadata": {},
   "outputs": [],
   "source": [
    "# 設定每一個動作，都暫停若干秒\n",
    "pyautogui.PAUSE = 0.1\n",
    "\n",
    "def click():\n",
    "    pyautogui.click(x=1520, y=920)\n",
    "            \n",
    "'''主程式'''\n",
    "if __name__ == '__main__':\n",
    "    while True:\n",
    "        # 當我們按下 ctrl 鍵時，自動點擊，按下 alt 則結束迴圈\n",
    "        if not keyboard.is_pressed('ctrl'):\n",
    "            click()\n",
    "        elif keyboard.is_pressed('alt'):\n",
    "            break"
   ]
  },
  {
   "cell_type": "code",
   "execution_count": null,
   "id": "9cca6db4",
   "metadata": {},
   "outputs": [],
   "source": []
  }
 ],
 "metadata": {
  "kernelspec": {
   "display_name": "Python 3.10.7 64-bit",
   "language": "python",
   "name": "python3"
  },
  "language_info": {
   "codemirror_mode": {
    "name": "ipython",
    "version": 3
   },
   "file_extension": ".py",
   "mimetype": "text/x-python",
   "name": "python",
   "nbconvert_exporter": "python",
   "pygments_lexer": "ipython3",
   "version": "3.10.7"
  },
  "vscode": {
   "interpreter": {
    "hash": "26de051ba29f2982a8de78e945f0abaf191376122a1563185a90213a26c5da77"
   }
  }
 },
 "nbformat": 4,
 "nbformat_minor": 5
}
