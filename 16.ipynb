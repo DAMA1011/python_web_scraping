{
 "cells": [
  {
   "cell_type": "markdown",
   "id": "8e286860",
   "metadata": {},
   "source": [
    "# 匯入自動測試工具相關套件"
   ]
  },
  {
   "cell_type": "code",
   "execution_count": 2,
   "id": "3012efa8",
   "metadata": {},
   "outputs": [],
   "source": [
    "'''\n",
    "參考網址:\n",
    "[1] Webdriver Manager for Python\n",
    "https://pypi.org/project/webdriver-manager/\n",
    "'''\n",
    "\n",
    "# 匯入套件\n",
    "from selenium import webdriver\n",
    "from selenium.webdriver.chrome.service import Service\n",
    "from webdriver_manager.chrome import ChromeDriverManager\n",
    "from selenium.common.exceptions import TimeoutException, NoSuchElementException\n",
    "from selenium.webdriver.support.ui import WebDriverWait\n",
    "from selenium.webdriver.support import expected_conditions as EC\n",
    "from selenium.webdriver.common.by import By\n",
    "from time import sleep"
   ]
  },
  {
   "cell_type": "markdown",
   "id": "1988e705",
   "metadata": {},
   "source": [
    "# 強制等待"
   ]
  },
  {
   "cell_type": "code",
   "execution_count": 3,
   "id": "7e99fc8f",
   "metadata": {},
   "outputs": [
    {
     "name": "stderr",
     "output_type": "stream",
     "text": [
      "[WDM] - Downloading: 100%|████████████████████████████████████████████████████████| 6.29M/6.29M [00:00<00:00, 38.0MB/s]\n"
     ]
    },
    {
     "name": "stdout",
     "output_type": "stream",
     "text": [
      "https://tw.yahoo.com/\n"
     ]
    }
   ],
   "source": [
    "'''\n",
    "強制等待\n",
    "'''\n",
    "# 自動取得 Chrome 的 WebDriver\n",
    "driver = webdriver.Chrome(\n",
    "    service = Service(ChromeDriverManager().install())\n",
    ")\n",
    "\n",
    "try:\n",
    "    # 走訪網址\n",
    "    driver.get('https://tw.yahoo.com/')\n",
    "    \n",
    "    # 等待\n",
    "    sleep(3)\n",
    "    \n",
    "    # 印出網址\n",
    "    print(driver.current_url)\n",
    "    \n",
    "except:\n",
    "    print('程式出錯!')\n",
    "finally:\n",
    "    # 關閉瀏覽器\n",
    "    driver.quit()"
   ]
  },
  {
   "cell_type": "markdown",
   "id": "0f2450db",
   "metadata": {},
   "source": [
    "# 隱性等待"
   ]
  },
  {
   "cell_type": "code",
   "execution_count": 8,
   "id": "4ac30d39",
   "metadata": {},
   "outputs": [
    {
     "name": "stdout",
     "output_type": "stream",
     "text": [
      "https://tw.yahoo.com/\n"
     ]
    }
   ],
   "source": [
    "'''\n",
    "隱性等待\n",
    "'''\n",
    "# 自動取得 Chrome 的 WebDriver\n",
    "driver = webdriver.Chrome(\n",
    "    service = Service(ChromeDriverManager().install())\n",
    ")\n",
    "\n",
    "try:\n",
    "    # 最多等 5 秒\n",
    "    driver.implicitly_wait(5)\n",
    "    \n",
    "    # 走訪網址\n",
    "    driver.get('https://tw.yahoo.com/')\n",
    "    \n",
    "    # 取得元素\n",
    "    element = driver.find_element(By.CSS_SELECTOR, 'a#header-logo')\n",
    "    \n",
    "    # 印出超連結\n",
    "    print(element.get_attribute('href'))\n",
    "    \n",
    "except NoSuchElementException:\n",
    "    print('找不到元素!')\n",
    "finally:\n",
    "    # 關閉瀏覽器\n",
    "    driver.quit()"
   ]
  },
  {
   "cell_type": "markdown",
   "id": "a974a484",
   "metadata": {},
   "source": [
    "# 顯性等待"
   ]
  },
  {
   "cell_type": "code",
   "execution_count": 10,
   "id": "6ae9f2ab",
   "metadata": {},
   "outputs": [
    {
     "name": "stdout",
     "output_type": "stream",
     "text": [
      "https://www.youtube.com/\n"
     ]
    }
   ],
   "source": [
    "'''\n",
    "顯性等待\n",
    "'''\n",
    "# 自動取得 Chrome 的 WebDriver\n",
    "driver = webdriver.Chrome(\n",
    "    service = Service(ChromeDriverManager().install())\n",
    ")\n",
    "\n",
    "try:\n",
    "    # 走訪網址\n",
    "    driver.get('https://www.youtube.com/?gl=TW')\n",
    "    \n",
    "    # 等待\n",
    "    WebDriverWait(driver, 5).until(\n",
    "        EC.presence_of_element_located(\n",
    "            (By.LINK_TEXT, '首頁')\n",
    "        )\n",
    "    )\n",
    "    \n",
    "    # 印出首頁連結\n",
    "    print(driver.find_element(By.LINK_TEXT, '首頁').get_attribute('href'))\n",
    "    \n",
    "except TimeoutException:\n",
    "    print('等待逾時!')\n",
    "finally:\n",
    "    driver.quit()"
   ]
  }
 ],
 "metadata": {
  "kernelspec": {
   "display_name": "Python 3 (ipykernel)",
   "language": "python",
   "name": "python3"
  },
  "language_info": {
   "codemirror_mode": {
    "name": "ipython",
    "version": 3
   },
   "file_extension": ".py",
   "mimetype": "text/x-python",
   "name": "python",
   "nbconvert_exporter": "python",
   "pygments_lexer": "ipython3",
   "version": "3.9.12"
  }
 },
 "nbformat": 4,
 "nbformat_minor": 5
}
